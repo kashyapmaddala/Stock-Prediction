{
 "cells": [
  {
   "cell_type": "code",
   "execution_count": null,
   "metadata": {},
   "outputs": [],
   "source": [
    "import pandas as pd\n",
    "import numpy as np\n",
    "import sklearn\n",
    "import scipy\n",
    "import yfinance as yf\n",
    "import matplotlib.pyplot as plt\n",
    "import seaborn as sns"
   ]
  },
  {
   "cell_type": "code",
   "execution_count": null,
   "metadata": {},
   "outputs": [],
   "source": [
    "stock = 'AAPL'\n",
    "\n",
    "stock_data = yf.Ticker(stock)\n",
    "stock_data = stock_data.history(period=\"20y\")\n",
    "\n",
    "del stock_data[\"Dividends\"]\n",
    "\n",
    "temp_time = []\n",
    "for date in range(len(stock_data)):\n",
    "    temp_time.append(date + 1)\n",
    "\n",
    "temparr = np.array(temp_time)\n",
    "temparr.reshape(-1,1)\n",
    "stock_data['Day'] = temparr\n",
    "\n",
    "# stock_data[\"Tomorrow\"] = stock_data[\"Close\"].shift(-1)\n",
    "# stock_data[\"Target\"] = (stock_data[\"Tomorrow\"] > stock_data[\"Close\"]).astype(int)\n",
    "\n",
    "stock_data"
   ]
  },
  {
   "cell_type": "code",
   "execution_count": null,
   "metadata": {},
   "outputs": [],
   "source": [
    "plt.figure(figsize=(15,5))\n",
    "sns.set_style(\"ticks\")\n",
    "sns.lineplot(data=stock_data,x='Day',y='Close',color='green')\n",
    "sns.despine()\n",
    "plt.title(\"The Stock Price\",size='x-large',color='black')"
   ]
  },
  {
   "cell_type": "code",
   "execution_count": null,
   "metadata": {},
   "outputs": [],
   "source": [
    "test_percentage = 0.015\n",
    "train_d = stock_data[:int(-1*len(stock_data) * test_percentage)]\n",
    "test_d = stock_data[int(-1*len(stock_data) * test_percentage):]\n",
    "\n",
    "#print(len(test_d))"
   ]
  },
  {
   "cell_type": "code",
   "execution_count": null,
   "metadata": {},
   "outputs": [],
   "source": [
    "print(len(test_d))\n",
    "\n",
    "plt.figure(figsize=(24,5))\n",
    "sns.set_style(\"ticks\")\n",
    "sns.lineplot(data=train_d,x='Day',y='Close',color='firebrick')\n",
    "sns.lineplot(data=test_d,x='Day', y='Close', color='blue')\n",
    "sns.despine()\n",
    "plt.title(\"The Training Data\",size='x-large',color='black')"
   ]
  },
  {
   "cell_type": "code",
   "execution_count": null,
   "metadata": {},
   "outputs": [],
   "source": [
    "from sklearn.ensemble import RandomForestClassifier\n",
    "\n",
    "model = RandomForestClassifier(n_estimators=150, min_samples_split=150, random_state=1)\n",
    "model.fit(train_d['Day'], train_d['Close'])"
   ]
  },
  {
   "cell_type": "code",
   "execution_count": null,
   "metadata": {},
   "outputs": [],
   "source": [
    "predictions = model.predict(test_d[predictors])\n",
    "final_true = 0\n",
    "for i in range(len(test_d)):\n",
    "    if(abs(test_d[i] - predictions[i]) < 0.3):\n",
    "        final_true += 1\n",
    "\n",
    "print(final_true / len(test_d))"
   ]
  }
 ],
 "metadata": {
  "kernelspec": {
   "display_name": "Python 3",
   "language": "python",
   "name": "python3"
  },
  "language_info": {
   "codemirror_mode": {
    "name": "ipython",
    "version": 3
   },
   "file_extension": ".py",
   "mimetype": "text/x-python",
   "name": "python",
   "nbconvert_exporter": "python",
   "pygments_lexer": "ipython3",
   "version": "3.11.4"
  },
  "orig_nbformat": 4
 },
 "nbformat": 4,
 "nbformat_minor": 2
}
